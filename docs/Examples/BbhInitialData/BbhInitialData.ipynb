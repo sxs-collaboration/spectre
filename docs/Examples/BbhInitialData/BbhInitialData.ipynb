{
 "cells": [
  {
   "cell_type": "markdown",
   "metadata": {},
   "source": [
    "# Binary black hole initial data {#example_bbh_id}\n",
    "\n",
    "In this example we run the elliptic solver to compute initial data for binary\n",
    "black holes."
   ]
  },
  {
   "cell_type": "code",
   "execution_count": null,
   "metadata": {},
   "outputs": [],
   "source": [
    "# Distributed under the MIT License.\n",
    "# See LICENSE.txt for details.\n",
    "\n",
    "# Dependencies:\n",
    "%pip install numpy matplotlib pandas 'h5py>=3.0.0' ruamel.yaml"
   ]
  },
  {
   "cell_type": "code",
   "execution_count": 2,
   "metadata": {},
   "outputs": [],
   "source": [
    "import h5py\n",
    "import matplotlib.pyplot as plt\n",
    "import multiprocessing\n",
    "import numpy as np\n",
    "import os\n",
    "import pandas as pd\n",
    "from ruamel.yaml import YAML\n",
    "\n",
    "plt.style.use(\"../plots.mplstyle\")"
   ]
  },
  {
   "cell_type": "code",
   "execution_count": 3,
   "metadata": {},
   "outputs": [],
   "source": [
    "%%bash\n",
    "# Clean up output files from previous runs\n",
    "rm -f Bbh*.h5"
   ]
  },
  {
   "cell_type": "markdown",
   "metadata": {},
   "source": [
    "First, make sure you have compiled the `SolveXcts` executable. Put in the path\n",
    "to your build directory below. Make sure you have compiled in `Release` mode."
   ]
  },
  {
   "cell_type": "code",
   "execution_count": 4,
   "metadata": {},
   "outputs": [],
   "source": [
    "# Please define these environment variables \n",
    "# if not defined or specify their path here\n",
    "\n",
    "# The source directory. \n",
    "SPECTRE_SOURCE = os.getenv(\"SPECTRE_SOURCE\")\n",
    "\n",
    "# The directory containing compiled executables\n",
    "SPECTRE_INSTALL = os.getenv(\"SPECTRE_INSTALL\")"
   ]
  },
  {
   "cell_type": "markdown",
   "metadata": {},
   "source": [
    "\n",
    "## Setup input file\n",
    "\n",
    "We set up an input file based on the\n",
    "`tests/InputFiles/Xcts/BinaryBlackHole.yaml` example:"
   ]
  },
  {
   "cell_type": "code",
   "execution_count": 5,
   "metadata": {},
   "outputs": [],
   "source": [
    "# Load example input file\n",
    "load_input_file_path = os.path.join(\n",
    "    SPECTRE_SOURCE, \"tests/InputFiles/Xcts/BinaryBlackHole.yaml\"\n",
    ")\n",
    "yaml = YAML()\n",
    "modified_input_file = []\n",
    "\n",
    "# Modify the input file\n",
    "with open(load_input_file_path, \"r\") as open_input_file:\n",
    "    input_file = yaml.load_all(open_input_file)\n",
    "\n",
    "    for section in input_file:\n",
    "        dsec = dict(section)\n",
    "        keys = dsec.keys()\n",
    "\n",
    "        if \"Observers\" in keys:\n",
    "            dsec[\"Observers\"].update({\"VolumeFileName\": \"BbhVolume\"})\n",
    "            dsec[\"Observers\"].update({\"ReductionFileName\": \"BbhReductions\"})\n",
    "\n",
    "        modified_input_file.append(dsec)\n",
    "\n",
    "        if \"DomainCreator\" in keys:\n",
    "            dsec[\"DomainCreator\"][\"BinaryCompactObject\"].pop(\"CubeScale\")\n",
    "\n",
    "# Write modified input file\n",
    "with open(\"Bbh.yaml\", \"w\") as open_input_file:\n",
    "    yaml.dump_all(modified_input_file, open_input_file)"
   ]
  },
  {
   "cell_type": "markdown",
   "metadata": {},
   "source": [
    "## Run executable\n",
    "\n",
    "We pass the input file to the `SolveXcts` executable to solve the elliptic\n",
    "problem. It will take a few minutes to complete on ~10 cores. Adapt the command\n",
    "below to your system, or run the `SolveXcts` executable with the `Bbh.yaml`\n",
    "input file manually."
   ]
  },
  {
   "cell_type": "code",
   "execution_count": 6,
   "metadata": {},
   "outputs": [
    {
     "name": "stdout",
     "output_type": "stream",
     "text": [
      "Charm++: standalone mode (not using charmrun)\n",
      "Charm++> Running in Multicore mode: 12 threads (PEs)\n",
      "Converse/Charm++ Commit ID: v6.10.2-0-g7bf00fa\n",
      "Warning> Randomization of virtual memory (ASLR) is turned on in the kernel, thread migration may not work! Run 'echo 0 > /proc/sys/kernel/randomize_va_space' as root to disable it, or try running with '+isomalloc_sync'.\n",
      "CharmLB> Load balancer assumes all CPUs are same.\n",
      "Charm++> Running on 1 hosts (12 sockets x 1 cores x 1 PUs = 12-way SMP)\n",
      "Charm++> cpu topology info is gathered in 0.002 seconds.\n",
      "\n",
      "Executing '/Users/nlf/Work/spectre/build-Default-Release/bin/SolveXcts' using 12 processors.\n",
      "Charm++ startup time in seconds: 3.621687\n",
      "Date and time at startup: Tue Feb 22 15:08:18 2022\n",
      "\n",
      "SpECTRE Build Information:\n",
      "Version:                      2022.02.17\n",
      "Compiled on host:             98c21919c2ac\n",
      "Compiled in directory:        /Users/nlf/Work/spectre/build-Default-Release\n",
      "Source directory is:          /Users/nlf/Projects/spectre/develop\n",
      "Compiled on git branch:       xcts_input_files\n",
      "Compiled on git revision:     db7100f700b\n",
      "Linked on:                    Thu Jan 27 17:45:20 2022\n",
      "\n",
      "The following options differ from their suggested values:\n",
      "\n",
      "Option parsing completed.\n",
      "Multigrid level 0 has 232 elements in 54 blocks distributed on 12 procs.\n",
      "Multigrid level 1 has 54 elements in 54 blocks distributed on 12 procs.\n",
      "NewtonRaphson initialized with residual: 1.058476e+01\n",
      "Gmres initialized with residual: 1.058476e+01\n",
      "Gmres(1) iteration complete. Remaining residual: 2.003738e-01\n",
      "Gmres(2) iteration complete. Remaining residual: 1.206809e-01\n",
      "Gmres(3) iteration complete. Remaining residual: 8.694367e-02\n",
      "Gmres(4) iteration complete. Remaining residual: 7.275577e-02\n",
      "Gmres(5) iteration complete. Remaining residual: 4.520779e-02\n",
      "Gmres(6) iteration complete. Remaining residual: 1.464362e-02\n",
      "Gmres(7) iteration complete. Remaining residual: 6.754772e-03\n",
      "Gmres has converged in 7 iterations: RelativeResidual - The residual magnitude has decreased to a fraction of 0.001 of its initial value or below (0.00063816).\n",
      "NewtonRaphson(1) iteration complete (0 globalization steps, step length 1). Remaining residual: 2.865222e+00\n",
      "Gmres initialized with residual: 2.865222e+00\n",
      "Gmres(1) iteration complete. Remaining residual: 4.062729e-02\n",
      "Gmres(2) iteration complete. Remaining residual: 2.455538e-02\n",
      "Gmres(3) iteration complete. Remaining residual: 1.602018e-02\n",
      "Gmres(4) iteration complete. Remaining residual: 1.181106e-02\n",
      "Gmres(5) iteration complete. Remaining residual: 5.591212e-03\n",
      "Gmres(6) iteration complete. Remaining residual: 2.012421e-03\n",
      "Gmres has converged in 6 iterations: RelativeResidual - The residual magnitude has decreased to a fraction of 0.001 of its initial value or below (0.000702361).\n",
      "NewtonRaphson(2) iteration complete (0 globalization steps, step length 1). Remaining residual: 8.164886e-03\n",
      "Gmres initialized with residual: 8.164886e-03\n",
      "Gmres(1) iteration complete. Remaining residual: 1.279278e-03\n",
      "Gmres(2) iteration complete. Remaining residual: 7.680224e-04\n",
      "Gmres(3) iteration complete. Remaining residual: 6.026001e-04\n",
      "Gmres(4) iteration complete. Remaining residual: 5.116235e-04\n",
      "Gmres(5) iteration complete. Remaining residual: 3.771227e-04\n",
      "Gmres(6) iteration complete. Remaining residual: 1.521095e-04\n",
      "Gmres(7) iteration complete. Remaining residual: 4.029530e-05\n",
      "Gmres(8) iteration complete. Remaining residual: 1.632393e-05\n",
      "Gmres(9) iteration complete. Remaining residual: 5.028700e-06\n",
      "Gmres has converged in 9 iterations: RelativeResidual - The residual magnitude has decreased to a fraction of 0.001 of its initial value or below (0.000615893).\n",
      "NewtonRaphson(3) iteration complete (0 globalization steps, step length 1). Remaining residual: 1.690461e-03\n",
      "Gmres initialized with residual: 1.690461e-03\n",
      "Gmres(1) iteration complete. Remaining residual: 6.584416e-06\n",
      "Gmres(2) iteration complete. Remaining residual: 5.651935e-06\n",
      "Gmres(3) iteration complete. Remaining residual: 5.288583e-06\n",
      "Gmres(4) iteration complete. Remaining residual: 4.922907e-06\n",
      "Gmres(5) iteration complete. Remaining residual: 4.250901e-06\n",
      "Gmres(6) iteration complete. Remaining residual: 1.596286e-06\n",
      "Gmres has converged in 6 iterations: RelativeResidual - The residual magnitude has decreased to a fraction of 0.001 of its initial value or below (0.00094429).\n",
      "NewtonRaphson(4) iteration complete (0 globalization steps, step length 1). Remaining residual: 1.606242e-06\n",
      "Gmres initialized with residual: 1.606242e-06\n",
      "Gmres(1) iteration complete. Remaining residual: 7.008839e-07\n",
      "Gmres(2) iteration complete. Remaining residual: 5.285042e-07\n",
      "Gmres(3) iteration complete. Remaining residual: 4.919028e-07\n",
      "Gmres(4) iteration complete. Remaining residual: 3.871318e-07\n",
      "Gmres(5) iteration complete. Remaining residual: 1.603757e-07\n",
      "Gmres(6) iteration complete. Remaining residual: 2.922369e-08\n",
      "Gmres(7) iteration complete. Remaining residual: 1.438336e-08\n",
      "Gmres(8) iteration complete. Remaining residual: 5.271254e-09\n",
      "Gmres(9) iteration complete. Remaining residual: 2.125873e-09\n",
      "Gmres(10) iteration complete. Remaining residual: 1.044162e-09\n",
      "Gmres has converged in 10 iterations: RelativeResidual - The residual magnitude has decreased to a fraction of 0.001 of its initial value or below (0.000650065).\n",
      "NewtonRaphson(5) iteration complete (0 globalization steps, step length 1). Remaining residual: 1.066508e-09\n",
      "Gmres initialized with residual: 1.066508e-09\n",
      "Gmres(1) iteration complete. Remaining residual: 8.000055e-10\n",
      "Gmres(2) iteration complete. Remaining residual: 5.991477e-10\n",
      "Gmres(3) iteration complete. Remaining residual: 4.073811e-10\n",
      "Gmres(4) iteration complete. Remaining residual: 2.559880e-10\n",
      "Gmres(5) iteration complete. Remaining residual: 1.242268e-10\n",
      "Gmres(6) iteration complete. Remaining residual: 3.521815e-11\n",
      "Gmres has converged in 6 iterations: AbsoluteResidual - The residual magnitude has decreased to 1e-10 or below (3.52181e-11).\n",
      "NewtonRaphson(6) iteration complete (0 globalization steps, step length 1). Remaining residual: 3.589802e-11\n",
      "NewtonRaphson has converged in 6 iterations: AbsoluteResidual - The residual magnitude has decreased to 1e-10 or below (3.5898e-11).\n",
      "\n",
      "Done!\n",
      "Wall time in seconds: 769.172052\n",
      "Date and time at completion: Tue Feb 22 15:21:03 2022\n",
      "\n",
      "[Partition 0][Node 0] End of program\n"
     ]
    }
   ],
   "source": [
    "NUM_CORES = multiprocessing.cpu_count()\n",
    "SOLVE_XCTS = os.path.join(SPECTRE_INSTALL, \"bin/SolveXcts\")\n",
    "!{SOLVE_XCTS} --input-file Bbh.yaml +p {NUM_CORES}"
   ]
  },
  {
   "cell_type": "markdown",
   "metadata": {},
   "source": [
    "## Load initial data into evolutions\n",
    "\n",
    "The executable has created H5 output files with volume data and diagnostics:"
   ]
  },
  {
   "cell_type": "code",
   "execution_count": 7,
   "metadata": {},
   "outputs": [
    {
     "name": "stdout",
     "output_type": "stream",
     "text": [
      "BbhReductions.h5  BbhVolume0.h5\n"
     ]
    }
   ],
   "source": [
    "!ls *.h5"
   ]
  },
  {
   "cell_type": "markdown",
   "metadata": {},
   "source": [
    "The volume data in the `BbhVolume*.h5` files (one per node) can be imported into\n",
    "evolution executables. It contains the following data:"
   ]
  },
  {
   "cell_type": "code",
   "execution_count": 8,
   "metadata": {},
   "outputs": [
    {
     "name": "stdout",
     "output_type": "stream",
     "text": [
      "/                        Group\n",
      "/VolumeData.vol          Group\n",
      "/VolumeData.vol/ObservationId1423324405707320626 Group\n",
      "/VolumeData.vol/ObservationId1423324405707320626/ConformalFactor Dataset {61344}\n",
      "/VolumeData.vol/ObservationId1423324405707320626/ExtrinsicCurvature_xx Dataset {61344}\n",
      "/VolumeData.vol/ObservationId1423324405707320626/ExtrinsicCurvature_yx Dataset {61344}\n",
      "/VolumeData.vol/ObservationId1423324405707320626/ExtrinsicCurvature_yy Dataset {61344}\n",
      "/VolumeData.vol/ObservationId1423324405707320626/ExtrinsicCurvature_zx Dataset {61344}\n",
      "/VolumeData.vol/ObservationId1423324405707320626/ExtrinsicCurvature_zy Dataset {61344}\n",
      "/VolumeData.vol/ObservationId1423324405707320626/ExtrinsicCurvature_zz Dataset {61344}\n",
      "/VolumeData.vol/ObservationId1423324405707320626/HamiltonianConstraint Dataset {61344}\n",
      "/VolumeData.vol/ObservationId1423324405707320626/InertialCoordinates_x Dataset {61344}\n",
      "/VolumeData.vol/ObservationId1423324405707320626/InertialCoordinates_y Dataset {61344}\n",
      "/VolumeData.vol/ObservationId1423324405707320626/InertialCoordinates_z Dataset {61344}\n",
      "/VolumeData.vol/ObservationId1423324405707320626/Lapse Dataset {61344}\n",
      "/VolumeData.vol/ObservationId1423324405707320626/MomentumConstraint_x Dataset {61344}\n",
      "/VolumeData.vol/ObservationId1423324405707320626/MomentumConstraint_y Dataset {61344}\n",
      "/VolumeData.vol/ObservationId1423324405707320626/MomentumConstraint_z Dataset {61344}\n",
      "/VolumeData.vol/ObservationId1423324405707320626/ShiftExcess_x Dataset {61344}\n",
      "/VolumeData.vol/ObservationId1423324405707320626/ShiftExcess_y Dataset {61344}\n",
      "/VolumeData.vol/ObservationId1423324405707320626/ShiftExcess_z Dataset {61344}\n",
      "/VolumeData.vol/ObservationId1423324405707320626/Shift_x Dataset {61344}\n",
      "/VolumeData.vol/ObservationId1423324405707320626/Shift_y Dataset {61344}\n",
      "/VolumeData.vol/ObservationId1423324405707320626/Shift_z Dataset {61344}\n",
      "/VolumeData.vol/ObservationId1423324405707320626/SpatialMetric_xx Dataset {61344}\n",
      "/VolumeData.vol/ObservationId1423324405707320626/SpatialMetric_yx Dataset {61344}\n",
      "/VolumeData.vol/ObservationId1423324405707320626/SpatialMetric_yy Dataset {61344}\n",
      "/VolumeData.vol/ObservationId1423324405707320626/SpatialMetric_zx Dataset {61344}\n",
      "/VolumeData.vol/ObservationId1423324405707320626/SpatialMetric_zy Dataset {61344}\n",
      "/VolumeData.vol/ObservationId1423324405707320626/SpatialMetric_zz Dataset {61344}\n",
      "/VolumeData.vol/ObservationId1423324405707320626/bases Dataset {696}\n",
      "/VolumeData.vol/ObservationId1423324405707320626/connectivity Dataset {294400}\n",
      "/VolumeData.vol/ObservationId1423324405707320626/grid_names Dataset {5272}\n",
      "/VolumeData.vol/ObservationId1423324405707320626/quadratures Dataset {696}\n",
      "/VolumeData.vol/ObservationId1423324405707320626/total_extents Dataset {696}\n",
      "/src.tar.gz              Dataset {5307433}\n"
     ]
    }
   ],
   "source": [
    "!h5ls -r BbhVolume*.h5"
   ]
  },
  {
   "cell_type": "markdown",
   "metadata": {},
   "source": [
    "- `Lapse` ($\\alpha$), `Shift` ($\\beta^i$), `SpatialMetric` ($\\gamma_{ij}$) and\n",
    "  `ExtrinsicCurvature` ($K_{ij}$): These quantities solve the Einstein\n",
    "  constraint equations in \"corotating\" coordinates, such that, e.g.,\n",
    "  $\\partial_t K = 0$. The black holes remain approximately at the same\n",
    "  coordinate positions when starting to evolve the initial data in these\n",
    "  coordinates. Note that $\\beta^i \\propto r$ in these coordinates, which can be\n",
    "  large and hence numerically undesireable.\n",
    "- `ShiftExcess` ($\\beta_\\text{excess}^i$): This shift vector excludes the\n",
    "  rotational part, so it is asymptotically small. Import `ShiftExcess` instead\n",
    "  of `Shift` in an evolution to obtain coordinates in which the black holes are\n",
    "  orbiting. Note that only\n",
    "  \\begin{equation}\n",
    "    \\beta^i = \\beta_\\text{background}^i + \\beta_\\text{excess}^i\n",
    "  \\end{equation}\n",
    "  fulfills all coordinate conditions imposed on the initial data, such as\n",
    "  $\\partial_t K = 0$. The background shift is typically\n",
    "  \\begin{equation}\n",
    "    \\beta_\\text{background}^i = \\epsilon^{ijk} \\Omega^{j} x^k + \\dot{a}_0 x^i\n",
    "    \\text{,}\n",
    "  \\end{equation}\n",
    "  where $\\Omega$ is the orbital angular velocity and $\\dot{a}_0$ is the\n",
    "  expansion parameter.\n",
    "  See the [Xcts::AnalyticData::Binary](https://spectre-code.org/classXcts_1_1AnalyticData_1_1Binary.html)\n",
    "  class for details."
   ]
  },
  {
   "cell_type": "markdown",
   "metadata": {},
   "source": [
    "## Plot diagnostics\n",
    "\n",
    "We plot the diagnostics in `BbhReductions.h5` to see what happened during the\n",
    "elliptic solve:"
   ]
  },
  {
   "cell_type": "code",
   "execution_count": 9,
   "metadata": {},
   "outputs": [],
   "source": [
    "# These routines read the data and process them a bit. You can skip to the plot\n",
    "# below to see the results.\n",
    "\n",
    "\n",
    "def split_iteration_sequence(data):\n",
    "    left_bounds = np.where(data.index == 0)[0]\n",
    "    right_bounds = list(left_bounds[1:]) + [-1]\n",
    "    return [data.iloc[i:j] for i, j in zip(left_bounds, right_bounds)]\n",
    "\n",
    "\n",
    "def load_dataset(subfile):\n",
    "    legend = subfile.attrs[\"Legend\"]\n",
    "    return pd.DataFrame(data=subfile, columns=legend).set_index(legend[0])\n",
    "\n",
    "\n",
    "with h5py.File(\"BbhReductions.h5\", \"r\") as h5_file:\n",
    "    nonlinear_residuals = load_dataset(h5_file[\"NewtonRaphsonResiduals.dat\"])\n",
    "    all_linear_residuals = split_iteration_sequence(\n",
    "        load_dataset(h5_file[\"GmresResiduals.dat\"])\n",
    "    )"
   ]
  },
  {
   "cell_type": "code",
   "execution_count": 4,
   "metadata": {},
   "outputs": [
    {
     "data": {
      "image/png": "[encoded data removed]",
      "text/plain": [
       "<Figure size 960x720 with 1 Axes>"
      ]
     },
     "metadata": {},
     "output_type": "display_data"
    }
   ],
   "source": [
    "# Plot linear residuals\n",
    "n = 0\n",
    "lin_label = \"Linear residual\"\n",
    "for linear_residuals in all_linear_residuals:\n",
    "    plt.semilogy(\n",
    "        linear_residuals.index + n,\n",
    "        linear_residuals[\"Residual\"]\n",
    "        / all_linear_residuals[0][\"Residual\"].iloc[0],\n",
    "        color=\"black\",\n",
    "        label=lin_label,\n",
    "        marker=\".\",\n",
    "        markersize=2.5,\n",
    "        zorder=30,\n",
    "    )\n",
    "    n += len(linear_residuals) - 1\n",
    "    lin_label = None\n",
    "\n",
    "# Plot nonlinear residuals\n",
    "nonlin_xticks = [0] + list(\n",
    "    np.cumsum([len(l) - 1 for l in all_linear_residuals])\n",
    ")\n",
    "plt.semilogy(\n",
    "    nonlin_xticks,\n",
    "    nonlinear_residuals[\"Residual\"] / nonlinear_residuals[\"Residual\"].iloc[0],\n",
    "    color=\"black\",\n",
    "    ls=\"dotted\",\n",
    "    marker=\".\",\n",
    "    label=\"Nonlinear residual\",\n",
    "    zorder=40,\n",
    ")\n",
    "plt.xticks(nonlin_xticks)\n",
    "xticks = (\n",
    "    range(len(all_linear_residuals))\n",
    "    if nonlinear_residuals is None\n",
    "    else nonlin_xticks\n",
    ")\n",
    "\n",
    "plt.xlabel(\"Cumulative linear solver iteration\")\n",
    "plt.legend();"
   ]
  },
  {
   "cell_type": "markdown",
   "metadata": {},
   "source": [
    "The plot shows the convergence of the nonlinear solver (dotted line), along with\n",
    "the convergence of the linear solver that runs in each nonlinear iteration\n",
    "(solid line). A few things to note:\n",
    "\n",
    "- The residual converges down to almost machine precision, but that doesn't\n",
    "  reflect the discretization error of the solution. It only shows that we have\n",
    "  solved the discretized problem very accurately. To get an idea of the\n",
    "  discretization error we would have to look at quantities such as constraint\n",
    "  norms.\n",
    "- The Newton-Raphson nonlinear solver converges slowly at first, and then begins\n",
    "  to converge quadratically once we are closer to the solution and hence the\n",
    "  linearization is more accurate.\n",
    "- The linear solver needs only a few steps to converge, which is a feature of\n",
    "  our multigrid-Schwarz preconditioner.\n",
    "\n",
    "You can read more about the elliptic solver in this paper:\n",
    "\n",
    "- N. L. Vu _et al_., A scalable elliptic solver with task-based parallelism for\n",
    "  the SpECTRE numerical relativity code (2022),\n",
    "  [arXiv:2111.06767](https://arxiv.org/abs/2111.06767)"
   ]
  },
  {
   "cell_type": "code",
   "execution_count": null,
   "metadata": {},
   "outputs": [],
   "source": []
  }
 ],
 "metadata": {
  "interpreter": {
   "hash": "5c837ee96a6a314af6ca82ef816f2b1d9c1a2b96687b8bdeaa8036bfb18cb0dc"
  },
  "kernelspec": {
   "display_name": "Python 3.9.10 ('spectre')",
   "language": "python",
   "name": "python3"
  },
  "language_info": {
   "codemirror_mode": {
    "name": "ipython",
    "version": 3
   },
   "file_extension": ".py",
   "mimetype": "text/x-python",
   "name": "python",
   "nbconvert_exporter": "python",
   "pygments_lexer": "ipython3",
   "version": "3.9.10"
  },
  "orig_nbformat": 4
 },
 "nbformat": 4,
 "nbformat_minor": 2
}
